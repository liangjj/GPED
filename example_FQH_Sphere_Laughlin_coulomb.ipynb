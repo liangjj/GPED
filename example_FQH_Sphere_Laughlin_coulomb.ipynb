{
 "cells": [
  {
   "cell_type": "code",
   "execution_count": 1,
   "metadata": {},
   "outputs": [],
   "source": [
    "import sys\n",
    "import os\n",
    "sys.path.insert(0, os.environ['GPED_DIR'])\n",
    "from GPED import *"
   ]
  },
  {
   "cell_type": "code",
   "execution_count": 2,
   "metadata": {},
   "outputs": [],
   "source": [
    "import numpy as np\n",
    "import matplotlib.pyplot as plt\n",
    "from scipy.special import comb\n",
    "import time"
   ]
  },
  {
   "cell_type": "code",
   "execution_count": 3,
   "metadata": {},
   "outputs": [],
   "source": [
    "Ne = 8\n",
    "\n",
    "m = 3\n",
    "shift = 3\n",
    "Nphi = m*Ne-shift\n",
    "Q = Nphi/2.0\n",
    "N = Nphi + 1\n",
    "Lz = 0\n",
    "qn = [Ne, Lz]"
   ]
  },
  {
   "cell_type": "code",
   "execution_count": 4,
   "metadata": {},
   "outputs": [],
   "source": [
    "BInfo, OpInfo = FQHSphere(Q)"
   ]
  },
  {
   "cell_type": "code",
   "execution_count": 5,
   "metadata": {
    "scrolled": false
   },
   "outputs": [
    {
     "data": {
      "text/plain": [
       "Text(0,0.5,'$V_L$')"
      ]
     },
     "execution_count": 5,
     "metadata": {},
     "output_type": "execute_result"
    },
    {
     "data": {
      "image/png": "[encoded data removed]",
      "text/plain": [
       "<Figure size 432x288 with 1 Axes>"
      ]
     },
     "metadata": {
      "needs_background": "light"
     },
     "output_type": "display_data"
    }
   ],
   "source": [
    "def Vcoulomb(L, R = 1):\n",
    "    v = 2.0/R\n",
    "    v = v*comb((4*Q-2*L), (2*Q-L),exact=False)\n",
    "    v = v*comb((4*Q+2*L+2), (2*Q+L+1),exact=False)\n",
    "    v = v/(comb((4*Q+2),(2*Q+1),exact=False))**2\n",
    "    return v\n",
    "\n",
    "Vpp = []\n",
    "for L in range(int(2*Q+1)):\n",
    "    Vpp.insert(0, Vcoulomb(L))\n",
    "\n",
    "plt.plot(Vpp,'x')\n",
    "plt.xlabel('L')\n",
    "plt.ylabel(r'$V_L$')"
   ]
  },
  {
   "cell_type": "code",
   "execution_count": 6,
   "metadata": {
    "scrolled": false
   },
   "outputs": [],
   "source": [
    "CGTable = cg_table(Q)\n",
    "Vmat = FQHSphereMatEle(Nphi, Vpp, CGTable)\n",
    "\n",
    "h = OperatorMat(OpInfo)\n",
    "for l1 in range(Nphi+1):\n",
    "    for l2 in range(l1+1):\n",
    "        for l3 in range(Nphi+1):\n",
    "            for l4 in range(l3+1):\n",
    "                if(l1 + l2 == l3 + l4):\n",
    "                    m1 = l1 - Q\n",
    "                    m2 = l2 - Q\n",
    "                    m3 = l3 - Q\n",
    "                    m4 = l4 - Q\n",
    "                    \n",
    "                    V1234 = Vmat[m1, m2, m3, m4]\n",
    "                    V1243 = Vmat[m1, m2, m4, m3]\n",
    "                    V2134 = Vmat[m2, m1, m3, m4]\n",
    "                    V2143 = Vmat[m2, m1, m4, m3]\n",
    "                    val = V1234 - V1243 - V2134 + V2143\n",
    "                    \n",
    "                    h = h + [val, 'Cdag', l1, 'Cdag', l2, 'C', l3, 'C', l4]\n",
    "\n",
    "                    \n",
    "                    "
   ]
  },
  {
   "cell_type": "code",
   "execution_count": 7,
   "metadata": {
    "scrolled": true
   },
   "outputs": [
    {
     "name": "stdout",
     "output_type": "stream",
     "text": [
      "Make Basis : 26.703729 sec\n",
      "Make Hamiltonian : 50.194619 sec\n"
     ]
    }
   ],
   "source": [
    "start = time.time()\n",
    "BSet = BasisSet(BInfo, qn)\n",
    "done = time.time()\n",
    "elapsed = done - start\n",
    "print(\"Make Basis : %f sec\"%elapsed)\n",
    "\n",
    "start = time.time()\n",
    "H = getMat(h, BSet)\n",
    "done = time.time()\n",
    "elapsed = done - start\n",
    "print(\"Make Hamiltonian : %f sec\"%elapsed)"
   ]
  },
  {
   "cell_type": "code",
   "execution_count": 8,
   "metadata": {},
   "outputs": [
    {
     "name": "stdout",
     "output_type": "stream",
     "text": [
      "Diagonalize Hamiltonian : 11.494633 sec\n"
     ]
    }
   ],
   "source": [
    "start = time.time()\n",
    "E, psis = lowestEigs(H, 100)\n",
    "done = time.time()\n",
    "elapsed = done - start\n",
    "print(\"Diagonalize Hamiltonian : %f sec\"%elapsed)\n",
    "\n",
    "psi = psis[0]"
   ]
  },
  {
   "cell_type": "code",
   "execution_count": 9,
   "metadata": {},
   "outputs": [
    {
     "name": "stdout",
     "output_type": "stream",
     "text": [
      "Ground State Energy = 41.23468\n"
     ]
    }
   ],
   "source": [
    "print('Ground State Energy = %2.5f'%abs(E[0]))"
   ]
  },
  {
   "cell_type": "code",
   "execution_count": 10,
   "metadata": {},
   "outputs": [
    {
     "name": "stdout",
     "output_type": "stream",
     "text": [
      "Entanglement spectrum : 2.095790 sec\n"
     ]
    }
   ],
   "source": [
    "start = time.time()\n",
    "SvN, ES = EntanglementSpectrum(psi, BSet, BInfo, int(N/2))\n",
    "done = time.time()\n",
    "elapsed = done - start\n",
    "print(\"Entanglement spectrum : %f sec\"%elapsed)"
   ]
  },
  {
   "cell_type": "code",
   "execution_count": 11,
   "metadata": {},
   "outputs": [
    {
     "data": {
      "text/plain": [
       "Text(0,0.5,'$\\\\xi$')"
      ]
     },
     "execution_count": 11,
     "metadata": {},
     "output_type": "execute_result"
    },
    {
     "data": {
      "image/png": "[encoded data removed]",
      "text/plain": [
       "<Figure size 432x288 with 1 Axes>"
      ]
     },
     "metadata": {
      "needs_background": "light"
     },
     "output_type": "display_data"
    }
   ],
   "source": [
    "plot_ES(int(Ne/2), ES)\n",
    "plt.xlabel(r'$L_z$')\n",
    "plt.ylabel(r'$\\xi$')"
   ]
  },
  {
   "cell_type": "code",
   "execution_count": 12,
   "metadata": {},
   "outputs": [],
   "source": [
    "L2_list = Ltotal(Q, OpInfo, BSet, psis, Lz)"
   ]
  },
  {
   "cell_type": "code",
   "execution_count": 13,
   "metadata": {},
   "outputs": [
    {
     "data": {
      "text/plain": [
       "Text(0,0.5,'E')"
      ]
     },
     "execution_count": 13,
     "metadata": {},
     "output_type": "execute_result"
    },
    {
     "data": {
      "image/png": "[encoded data removed]",
      "text/plain": [
       "<Figure size 432x288 with 1 Axes>"
      ]
     },
     "metadata": {
      "needs_background": "light"
     },
     "output_type": "display_data"
    }
   ],
   "source": [
    "plt.xticks(range(19))\n",
    "plt.scatter(L2_list,E)\n",
    "plt.xlabel(r'$L_z$')\n",
    "plt.ylabel(r'E')"
   ]
  },
  {
   "cell_type": "code",
   "execution_count": null,
   "metadata": {},
   "outputs": [],
   "source": []
  }
 ],
 "metadata": {
  "kernelspec": {
   "display_name": "Python 3",
   "language": "python",
   "name": "python3"
  },
  "language_info": {
   "codemirror_mode": {
    "name": "ipython",
    "version": 3
   },
   "file_extension": ".py",
   "mimetype": "text/x-python",
   "name": "python",
   "nbconvert_exporter": "python",
   "pygments_lexer": "ipython3",
   "version": "3.7.0"
  }
 },
 "nbformat": 4,
 "nbformat_minor": 2
}
