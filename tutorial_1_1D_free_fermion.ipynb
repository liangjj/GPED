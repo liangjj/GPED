{
 "cells": [
  {
   "cell_type": "markdown",
   "metadata": {},
   "source": [
    "# Introduction\n",
    "In this tutorial, I'll show how to use the GPED package to perform exact-diagonalization(ED). \n",
    "\n",
    "Let's start with the simplest system : 1D free fermion.\n",
    "\n",
    "The Hamiltonian of the 1D spinless free fermion under open boundary condition in the real space is of the form\n",
    "\n",
    "$H = \\sum_{i = 0}^{N-2} c^\\dagger_i c_{i+1} + h.c.$\n",
    "\n",
    ",where $N$ is the number of the sites."
   ]
  },
  {
   "cell_type": "markdown",
   "metadata": {},
   "source": [
    "# Step 0 : import the module from GPED/utils"
   ]
  },
  {
   "cell_type": "code",
   "execution_count": 1,
   "metadata": {},
   "outputs": [],
   "source": [
    "import sys\n",
    "sys.path.insert(0, 'GPED')\n",
    "from utils import *"
   ]
  },
  {
   "cell_type": "markdown",
   "metadata": {},
   "source": [
    "# Step 1 : Specify the basis\n",
    "\n",
    "There are two states in each sites : |0> and |1>, where |0> means empty and |1> means occupied state.\n",
    "\n",
    "The good quantum number in this system is the total number of fermions.\n",
    "\n",
    "We can specify the basis by creating an object \"BasisInfo\" \n",
    "and define the quantum number of each state on each site by using the function \"put\"."
   ]
  },
  {
   "cell_type": "code",
   "execution_count": 2,
   "metadata": {
    "scrolled": true
   },
   "outputs": [
    {
     "name": "stdout",
     "output_type": "stream",
     "text": [
      "Hilber Space\n",
      "\n",
      "Site no.0\n",
      "/-----------------------------------\\\n",
      "  state : |0>\tQN : [0]\n",
      "  state : |1>\tQN : [1]\n",
      "\\-----------------------------------/\n",
      "\n",
      "Site no.1\n",
      "/-----------------------------------\\\n",
      "  state : |0>\tQN : [0]\n",
      "  state : |1>\tQN : [1]\n",
      "\\-----------------------------------/\n",
      "\n",
      "Site no.2\n",
      "/-----------------------------------\\\n",
      "  state : |0>\tQN : [0]\n",
      "  state : |1>\tQN : [1]\n",
      "\\-----------------------------------/\n",
      "\n",
      "Site no.3\n",
      "/-----------------------------------\\\n",
      "  state : |0>\tQN : [0]\n",
      "  state : |1>\tQN : [1]\n",
      "\\-----------------------------------/\n",
      "\n",
      "Site no.4\n",
      "/-----------------------------------\\\n",
      "  state : |0>\tQN : [0]\n",
      "  state : |1>\tQN : [1]\n",
      "\\-----------------------------------/\n",
      "\n",
      "\n"
     ]
    }
   ],
   "source": [
    "# number of sites\n",
    "N = 5\n",
    "\n",
    "# state lists\n",
    "states = ['0','1']\n",
    "\n",
    "# construct the BasisInfo object\n",
    "BInfo = BasisInfo(states, N)\n",
    "\n",
    "# specify the quantum number of each state on every sites\n",
    "# put(position, state, quantum_number)\n",
    "for i in range(N):\n",
    "    BInfo.put(i, '0', [0])\n",
    "    BInfo.put(i, '1', [1])\n",
    "    \n",
    "# print it out\n",
    "print(BInfo)"
   ]
  },
  {
   "cell_type": "markdown",
   "metadata": {},
   "source": [
    "# Step 2 : Specify the operators\n",
    "We need to define the operators and store it in the OperatorInfo object.\n",
    "\n",
    "In the fermionic system, the commonly used operators are : number operator $n_i$, creation operator $c_i^\\dagger$ and annihilation operator $c_i$. The creation operator and annihilation operator follows the anti-commutation relation : $\\{ c_i, c_j^\\dagger \\} = \\delta_{ij}$. \n",
    "\n",
    "In the GPED, we treats the operators as a fermionic operator if its name start with \"C\". We automatically perform Jordan-Wigner transformation to fermionic operator when constructing matrix.\n",
    "\n",
    "One can specify these operators in the matrix form. The basis of the matrix has been defined in the BInfo.states."
   ]
  },
  {
   "cell_type": "code",
   "execution_count": 3,
   "metadata": {
    "scrolled": true
   },
   "outputs": [
    {
     "name": "stdout",
     "output_type": "stream",
     "text": [
      "Operator Info\n",
      "\n",
      "n_0 = |1><1|_0\n",
      "\n",
      "C_0 = |0><1|_0\n",
      "\n",
      "Cdag_0 = |1><0|_0\n",
      "\n",
      "n_1 = |1><1|_1\n",
      "\n",
      "C_1 = |0><1|_1\n",
      "\n",
      "Cdag_1 = |1><0|_1\n",
      "\n",
      "n_2 = |1><1|_2\n",
      "\n",
      "C_2 = |0><1|_2\n",
      "\n",
      "Cdag_2 = |1><0|_2\n",
      "\n",
      "n_3 = |1><1|_3\n",
      "\n",
      "C_3 = |0><1|_3\n",
      "\n",
      "Cdag_3 = |1><0|_3\n",
      "\n",
      "n_4 = |1><1|_4\n",
      "\n",
      "C_4 = |0><1|_4\n",
      "\n",
      "Cdag_4 = |1><0|_4\n",
      "\n",
      "\n"
     ]
    }
   ],
   "source": [
    "# construct OperatorInfo object\n",
    "OpInfo = OperatorInfo(BInfo)\n",
    "\n",
    "# define the local operator by specifying the matrix.\n",
    "for i in range(N):\n",
    "    # the basis of the matrix is defined in the state list previously. i.e. \"states = ['0','1']\"\n",
    "    OpInfo['n',i] = [[0, 0]\n",
    "                    ,[0, 1]]\n",
    "    \n",
    "    OpInfo['C',i] = [[0, 1]\n",
    "                    ,[0, 0]]\n",
    "    \n",
    "    OpInfo['Cdag',i] = [[0, 0]\n",
    "                       ,[1, 0]]\n",
    "print(OpInfo)"
   ]
  },
  {
   "cell_type": "markdown",
   "metadata": {},
   "source": [
    "# Predefined BasisInfo and OperatorInfo\n",
    "For commonly used basis and operators, such as SpinlessFermion, SpinfulFermion, SpinHalf and Boson, one can import it from utils.\n",
    "\n",
    "For example, we can also use:\n"
   ]
  },
  {
   "cell_type": "code",
   "execution_count": 4,
   "metadata": {
    "scrolled": true
   },
   "outputs": [
    {
     "name": "stdout",
     "output_type": "stream",
     "text": [
      "Hilber Space\n",
      "\n",
      "Site no.0\n",
      "/-----------------------------------\\\n",
      "  state : |0>\tQN : [0]\n",
      "  state : |1>\tQN : [1]\n",
      "\\-----------------------------------/\n",
      "\n",
      "Site no.1\n",
      "/-----------------------------------\\\n",
      "  state : |0>\tQN : [0]\n",
      "  state : |1>\tQN : [1]\n",
      "\\-----------------------------------/\n",
      "\n",
      "Site no.2\n",
      "/-----------------------------------\\\n",
      "  state : |0>\tQN : [0]\n",
      "  state : |1>\tQN : [1]\n",
      "\\-----------------------------------/\n",
      "\n",
      "Site no.3\n",
      "/-----------------------------------\\\n",
      "  state : |0>\tQN : [0]\n",
      "  state : |1>\tQN : [1]\n",
      "\\-----------------------------------/\n",
      "\n",
      "Site no.4\n",
      "/-----------------------------------\\\n",
      "  state : |0>\tQN : [0]\n",
      "  state : |1>\tQN : [1]\n",
      "\\-----------------------------------/\n",
      "\n",
      "\n",
      "Operator Info\n",
      "\n",
      "n_0 = |1><1|_0\n",
      "\n",
      "C_0 = |0><1|_0\n",
      "\n",
      "Cdag_0 = |1><0|_0\n",
      "\n",
      "A_0 = |0><1|_0\n",
      "\n",
      "Adag_0 = |1><0|_0\n",
      "\n",
      "n_1 = |1><1|_1\n",
      "\n",
      "C_1 = |0><1|_1\n",
      "\n",
      "Cdag_1 = |1><0|_1\n",
      "\n",
      "A_1 = |0><1|_1\n",
      "\n",
      "Adag_1 = |1><0|_1\n",
      "\n",
      "n_2 = |1><1|_2\n",
      "\n",
      "C_2 = |0><1|_2\n",
      "\n",
      "Cdag_2 = |1><0|_2\n",
      "\n",
      "A_2 = |0><1|_2\n",
      "\n",
      "Adag_2 = |1><0|_2\n",
      "\n",
      "n_3 = |1><1|_3\n",
      "\n",
      "C_3 = |0><1|_3\n",
      "\n",
      "Cdag_3 = |1><0|_3\n",
      "\n",
      "A_3 = |0><1|_3\n",
      "\n",
      "Adag_3 = |1><0|_3\n",
      "\n",
      "n_4 = |1><1|_4\n",
      "\n",
      "C_4 = |0><1|_4\n",
      "\n",
      "Cdag_4 = |1><0|_4\n",
      "\n",
      "A_4 = |0><1|_4\n",
      "\n",
      "Adag_4 = |1><0|_4\n",
      "\n",
      "\n"
     ]
    }
   ],
   "source": [
    "BInfo_predefined, OpInfo_predefined = SpinlessFermion(N)\n",
    "print(BInfo_predefined)\n",
    "print(OpInfo_predefined)"
   ]
  },
  {
   "cell_type": "markdown",
   "metadata": {},
   "source": [
    "# Step 3 : Generate Basis\n",
    "\n",
    "In the exact diagonalization, the Hilbert space can be reduced by block diagonalized the matrix with a specific conserved quantum number. \n",
    "\n",
    "In the 1D spinless femion system, we have only one conserved quantum number : number of particles. \n",
    "\n",
    "In the following, I'll show how to generate a basis with specific quantum number."
   ]
  },
  {
   "cell_type": "code",
   "execution_count": 5,
   "metadata": {},
   "outputs": [
    {
     "name": "stdout",
     "output_type": "stream",
     "text": [
      "label\tStr\tBin\n",
      "0\t10000\t1\n",
      "1\t01000\t2\n",
      "2\t00100\t4\n",
      "3\t00010\t8\n",
      "4\t00001\t16\n",
      "\n"
     ]
    }
   ],
   "source": [
    "# 1 particle\n",
    "BSet_1_particle = BasisSet(BInfo, [1])\n",
    "print(BSet_1_particle)"
   ]
  },
  {
   "cell_type": "code",
   "execution_count": 6,
   "metadata": {},
   "outputs": [
    {
     "name": "stdout",
     "output_type": "stream",
     "text": [
      "label\tStr\tBin\n",
      "0\t11000\t3\n",
      "1\t10100\t5\n",
      "2\t01100\t6\n",
      "3\t01010\t10\n",
      "4\t00110\t12\n",
      "5\t00101\t20\n",
      "6\t00011\t24\n",
      "7\t01001\t18\n",
      "8\t10010\t9\n",
      "9\t10001\t17\n",
      "\n"
     ]
    }
   ],
   "source": [
    "# 2 particle\n",
    "BSet_2_particle = BasisSet(BInfo, [2])\n",
    "print(BSet_2_particle)"
   ]
  },
  {
   "cell_type": "code",
   "execution_count": 7,
   "metadata": {},
   "outputs": [
    {
     "name": "stdout",
     "output_type": "stream",
     "text": [
      "label\tStr\tBin\n",
      "0\t11100\t7\n",
      "1\t11010\t11\n",
      "2\t10110\t13\n",
      "3\t01110\t14\n",
      "4\t01101\t22\n",
      "5\t01011\t26\n",
      "6\t00111\t28\n",
      "7\t10101\t21\n",
      "8\t10011\t25\n",
      "9\t11001\t19\n",
      "\n"
     ]
    }
   ],
   "source": [
    "# 3 particle\n",
    "BSet_3_particle = BasisSet(BInfo, [3])\n",
    "print(BSet_3_particle)"
   ]
  },
  {
   "cell_type": "markdown",
   "metadata": {},
   "source": [
    "We label each state by an integer. The integer corresponds to the matrix indice of the sparse matrix that we'll defined later.\n",
    "\n",
    "\"Bin\" is a number for internal storage."
   ]
  },
  {
   "cell_type": "markdown",
   "metadata": {},
   "source": [
    "# Step 4: Make an Operator\n",
    "GPED provides a convenient interface for constructing operators. One can simply define an operator by writing down its second quantized form.\n",
    "\n",
    "For example, we can construct the 1D free fermion Hamiltonain \n",
    "$H = \\sum_{i = 0}^{N-2} c^\\dagger_i c_{i+1} + h.c.$ by using:"
   ]
  },
  {
   "cell_type": "code",
   "execution_count": 8,
   "metadata": {},
   "outputs": [],
   "source": [
    "h = OperatorMat(OpInfo)\n",
    "\n",
    "for i in range(N-1):\n",
    "    h += [1, 'Cdag', i, 'C', i+1]\n",
    "    h += [1, 'Cdag', i+1, 'C', i, ]"
   ]
  },
  {
   "cell_type": "markdown",
   "metadata": {},
   "source": [
    "# Step 5 : Get the Sparse Matrix"
   ]
  },
  {
   "cell_type": "code",
   "execution_count": 9,
   "metadata": {},
   "outputs": [
    {
     "name": "stdout",
     "output_type": "stream",
     "text": [
      "  (0, 1)\t1.0\n",
      "  (1, 0)\t1.0\n",
      "  (1, 2)\t1.0\n",
      "  (2, 1)\t1.0\n",
      "  (2, 3)\t1.0\n",
      "  (3, 2)\t1.0\n",
      "  (3, 4)\t1.0\n",
      "  (4, 3)\t1.0\n"
     ]
    }
   ],
   "source": [
    "H = getMat(h, BSet_1_particle)\n",
    "print(H)"
   ]
  },
  {
   "cell_type": "code",
   "execution_count": 10,
   "metadata": {
    "scrolled": true
   },
   "outputs": [
    {
     "name": "stdout",
     "output_type": "stream",
     "text": [
      "  (0, 1)\t1.0\n",
      "  (1, 0)\t1.0\n",
      "  (1, 2)\t1.0\n",
      "  (1, 8)\t1.0\n",
      "  (2, 1)\t1.0\n",
      "  (2, 3)\t1.0\n",
      "  (3, 2)\t1.0\n",
      "  (3, 4)\t1.0\n",
      "  (3, 7)\t1.0\n",
      "  (3, 8)\t1.0\n",
      "  (4, 3)\t1.0\n",
      "  (4, 5)\t1.0\n",
      "  (5, 4)\t1.0\n",
      "  (5, 6)\t1.0\n",
      "  (5, 7)\t1.0\n",
      "  (6, 5)\t1.0\n",
      "  (7, 3)\t1.0\n",
      "  (7, 5)\t1.0\n",
      "  (7, 9)\t1.0\n",
      "  (8, 1)\t1.0\n",
      "  (8, 3)\t1.0\n",
      "  (8, 9)\t1.0\n",
      "  (9, 7)\t1.0\n",
      "  (9, 8)\t1.0\n"
     ]
    }
   ],
   "source": [
    "H = getMat(h, BSet_2_particle)\n",
    "print(H)"
   ]
  },
  {
   "cell_type": "markdown",
   "metadata": {},
   "source": [
    "After converting the operator to matrix, one can easily manipulate it and calculate the relevent physical quantity such as spectrum, expectation values and time evolution. "
   ]
  },
  {
   "cell_type": "code",
   "execution_count": null,
   "metadata": {},
   "outputs": [],
   "source": []
  }
 ],
 "metadata": {
  "kernelspec": {
   "display_name": "Python 3",
   "language": "python",
   "name": "python3"
  },
  "language_info": {
   "codemirror_mode": {
    "name": "ipython",
    "version": 3
   },
   "file_extension": ".py",
   "mimetype": "text/x-python",
   "name": "python",
   "nbconvert_exporter": "python",
   "pygments_lexer": "ipython3",
   "version": "3.7.0"
  }
 },
 "nbformat": 4,
 "nbformat_minor": 2
}
